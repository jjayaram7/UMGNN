{
 "cells": [
  {
   "cell_type": "code",
   "execution_count": 1,
   "id": "996944ec-de57-4b1f-b5f0-e930e100a9a5",
   "metadata": {
    "slideshow": {
     "slide_type": "skip"
    }
   },
   "outputs": [],
   "source": [
    "import torch\n",
    "import torch_geometric.transforms as T\n",
    "import torch.nn as nn\n",
    "import torch.nn.functional as F\n",
    "import numpy as np\n",
    "device = 'cpu'"
   ]
  },
  {
   "cell_type": "markdown",
   "id": "15b8ca47",
   "metadata": {
    "slideshow": {
     "slide_type": "slide"
    }
   },
   "source": [
    "# <span style=\"color:darkblue\">Uncertainty Matching Graph Neural Networks</span>\n",
    "\n",
    "### <span style=\"color:black\">Demo</span>\n",
    "\n",
    "\n",
    "\n",
    "`Jay Thiagarajan`, `Udayshankar Shanthamallu`      "
   ]
  },
  {
   "cell_type": "markdown",
   "id": "fcb30d0a",
   "metadata": {
    "slideshow": {
     "slide_type": "slide"
    }
   },
   "source": [
    "# <span style=\"color:darkblue\">Graph Neural Networks are Powerful at Modeling Structured Data</span>"
   ]
  },
  {
   "cell_type": "markdown",
   "id": "5e71b9e9",
   "metadata": {
    "slideshow": {
     "slide_type": "-"
    }
   },
   "source": [
    "+ Let us consider a node classification problem!"
   ]
  },
  {
   "cell_type": "code",
   "execution_count": 4,
   "id": "10706b56",
   "metadata": {
    "scrolled": true,
    "slideshow": {
     "slide_type": "fragment"
    }
   },
   "outputs": [
    {
     "name": "stdout",
     "output_type": "stream",
     "text": [
      "Data(x=[2110, 3703], edge_index=[2, 7336], y=[2110])\n"
     ]
    }
   ],
   "source": [
    "from greatx.datasets import GraphDataset\n",
    "from greatx.utils import split_nodes\n",
    "dname = 'citeseer'\n",
    "root = 'data'\n",
    "dataset = GraphDataset(root=root, name=dname,\n",
    "                       transform=T.LargestConnectedComponents())\n",
    "data = dataset[0]\n",
    "splits = split_nodes(data.y, random_state=15)\n",
    "num_features = data.x.size(-1)\n",
    "num_classes = data.y.max().item() + 1\n",
    "print(data)"
   ]
  },
  {
   "cell_type": "markdown",
   "id": "33435205",
   "metadata": {
    "slideshow": {
     "slide_type": "slide"
    }
   },
   "source": [
    "# <span style=\"color:darkblue\">Train a GCN Model for Node Classification</span>"
   ]
  },
  {
   "cell_type": "code",
   "execution_count": 5,
   "id": "1f816d26",
   "metadata": {
    "slideshow": {
     "slide_type": "-"
    }
   },
   "outputs": [
    {
     "name": "stdout",
     "output_type": "stream",
     "text": [
      "Training...\n",
      "150/150 [==============================] - Total: 4.39s - 29ms/step- loss: 0.0229 - acc: 1 - val_loss: 1.19 - val_acc: 0.735\n",
      "Done training GCN on Clean Graph! (Acc = 0.7055687308311462)\n"
     ]
    }
   ],
   "source": [
    "from greatx.nn.models import GCN\n",
    "from greatx.training.trainer import Trainer\n",
    "surr = Trainer(GCN(num_features, num_classes, hids = [32],dropout=0.5),lr = 0.005,device=device)\n",
    "surr.fit(data = data, mask=(splits.train_nodes, splits.val_nodes), epochs = 150)\n",
    "logs = surr.evaluate(data, splits.test_nodes,verbose=0)\n",
    "print(f\"Done training GCN on Clean Graph! (Acc = {logs.acc})\")"
   ]
  },
  {
   "cell_type": "markdown",
   "id": "021e8224",
   "metadata": {
    "slideshow": {
     "slide_type": "fragment"
    }
   },
   "source": [
    "+ This model can be used as a surrogate for training targeted/untargeted adversarial attacks"
   ]
  },
  {
   "cell_type": "markdown",
   "id": "e02bc4da",
   "metadata": {
    "slideshow": {
     "slide_type": "slide"
    }
   },
   "source": [
    "# <span style=\"color:darkblue\">What Happens to the GCN the Graph is Poisoned?</span>"
   ]
  },
  {
   "cell_type": "code",
   "execution_count": 6,
   "id": "702fb547",
   "metadata": {
    "slideshow": {
     "slide_type": "fragment"
    }
   },
   "outputs": [
    {
     "data": {
      "application/vnd.jupyter.widget-view+json": {
       "model_id": "1e59631b6f2c4111996346830d9e3785",
       "version_major": 2,
       "version_minor": 0
      },
      "text/plain": [
       "Peturbing graph...: 0it [00:00, ?it/s]"
      ]
     },
     "metadata": {},
     "output_type": "display_data"
    },
    {
     "data": {
      "text/plain": [
       "DICEAttack(device=cpu, seed=None,)"
      ]
     },
     "execution_count": 6,
     "metadata": {},
     "output_type": "execute_result"
    }
   ],
   "source": [
    "from greatx.attack.untargeted import DICEAttack\n",
    "attacker = DICEAttack(data, device=device)\n",
    "attacker.reset()\n",
    "noise_level = 0.9\n",
    "attacker.attack(noise_level)"
   ]
  },
  {
   "cell_type": "code",
   "execution_count": 7,
   "id": "a98eec59",
   "metadata": {
    "slideshow": {
     "slide_type": "fragment"
    }
   },
   "outputs": [
    {
     "name": "stdout",
     "output_type": "stream",
     "text": [
      "Training...\n",
      "150/150 [==============================] - Total: 4.39s - 29ms/step- loss: 0.0322 - acc: 1 - val_loss: 1.91 - val_acc: 0.469\n",
      "Done training Vanilla GCN on Poisoned Graph (Acc = 0.44194313883781433)\n"
     ]
    }
   ],
   "source": [
    "trainer_basic = Trainer(GCN(num_features, num_classes, hids = [32],dropout=0.5),lr = 0.005, device=device)\n",
    "trainer_basic.fit(data = attacker.data(), mask=(splits.train_nodes, splits.val_nodes), epochs = 150,verbose=1)\n",
    "logs = trainer_basic.evaluate(attacker.data(), splits.test_nodes,verbose=0)\n",
    "print(f'Done training Vanilla GCN on Poisoned Graph (Acc = {logs.acc})')\n",
    "acc_basic = logs.acc"
   ]
  },
  {
   "cell_type": "markdown",
   "id": "9ab5bd70",
   "metadata": {
    "slideshow": {
     "slide_type": "fragment"
    }
   },
   "source": [
    "+ The test performance drops by a signficant margin"
   ]
  },
  {
   "cell_type": "markdown",
   "id": "02eb2a64",
   "metadata": {
    "slideshow": {
     "slide_type": "slide"
    }
   },
   "source": [
    "# <span style=\"color:darkblue\">UM-GNN: Leveraging Model Uncertainties for Reliable Training</span>"
   ]
  },
  {
   "cell_type": "markdown",
   "id": "b99561ef",
   "metadata": {},
   "source": [
    "<img style=\"display: block; margin-left: auto; margin-right: auto; margin-bottom: auto; width: 65%;\" src=\"files/umgnn.png\" alt=\"UM-GNN\">"
   ]
  },
  {
   "cell_type": "markdown",
   "id": "031e9453",
   "metadata": {
    "slideshow": {
     "slide_type": "slide"
    }
   },
   "source": [
    "# <span style=\"color:darkblue\">Train a UM-GCN for the Poisoned Graph</span>"
   ]
  },
  {
   "cell_type": "code",
   "execution_count": 8,
   "id": "9114fd84-97e8-4d1f-b7e2-4974d99e0e41",
   "metadata": {},
   "outputs": [
    {
     "name": "stdout",
     "output_type": "stream",
     "text": [
      "Training...\n",
      "200/200 [==============================] - Total: 44.23s - 221ms/step- loss: 0.0549 - acc: 0.493 - Hval_loss: 1.13 - Hval_acc: 0.629 - Gval_loss: 2.12 - Gval_acc: 0.44\n",
      "Evaluating...\n",
      "1/1 [==============================] - Total: 10.80ms - 10ms/step- loss: 2.12 - acc: 0.44\n",
      "Evaluating...\n",
      "1/1 [==============================] - Total: 11.37ms - 11ms/step- loss: 1.13 - acc: 0.629\n",
      "╒═══════════════╤═══════════╕\n",
      "│ Names         │   Objects │\n",
      "╞═══════════════╪═══════════╡\n",
      "│ acc (GNN)     │  0.441943 │\n",
      "├───────────────┼───────────┤\n",
      "│ acc (UMGNN-G) │  0.440166 │\n",
      "├───────────────┼───────────┤\n",
      "│ acc (UMGNN-H) │  0.628555 │\n",
      "╘═══════════════╧═══════════╛\n"
     ]
    }
   ],
   "source": [
    "from greatx.nn.models import GCN\n",
    "from modeldefs import FCN\n",
    "from greatx.training.trainer_um import TrainerUM \n",
    "Gmodel = GCN(num_features, num_classes, hids = [32],dropout=0.8)\n",
    "Hmodel = FCN(in_feats=num_features, hidden_neurons=[32], out_feats=num_classes)\n",
    "trainer_umgnn = TrainerUM(Gmodel, Hmodel, lr = 0.005)\n",
    "trainer_umgnn.fit(data = attacker.data(), mask=(splits.train_nodes, splits.val_nodes, splits.test_nodes), epochs = 200)\n",
    "logs = trainer_umgnn.evaluate(attacker.data(), splits.test_nodes, mode = 'G')\n",
    "acc_g = logs.acc\n",
    "logs = trainer_umgnn.evaluate(attacker.data(), splits.test_nodes, mode = 'H')\n",
    "acc_h = logs.acc\n",
    "logs.pop('loss'); logs.pop('acc')\n",
    "logs.update({'acc (GNN)': acc_basic, 'acc (UMGNN-G)': acc_g, 'acc (UMGNN-H)': acc_h})\n",
    "print(logs)"
   ]
  },
  {
   "cell_type": "markdown",
   "id": "0ab8ca0a",
   "metadata": {
    "slideshow": {
     "slide_type": "slide"
    }
   },
   "source": [
    "# <span style=\"color:darkblue\">Let us Compare the Convergence of G and H Models</span> "
   ]
  },
  {
   "cell_type": "code",
   "execution_count": 9,
   "id": "98b2958e",
   "metadata": {},
   "outputs": [
    {
     "data": {
      "image/png": "[encoded data removed]",
      "text/plain": [
       "<Figure size 432x360 with 1 Axes>"
      ]
     },
     "metadata": {
      "needs_background": "light"
     },
     "output_type": "display_data"
    }
   ],
   "source": [
    "import matplotlib.pyplot as plt\n",
    "import matplotlib\n",
    "font = {'family' : 'Tahoma',\n",
    "        'size'   : 18}\n",
    "matplotlib.rc('font', **font)\n",
    "Hval_acc = trainer_umgnn.callbacks._history.history.Hval_acc\n",
    "Gval_acc = trainer_umgnn.callbacks._history.history.Gval_acc\n",
    "plt.figure(figsize=(6,5))\n",
    "plt.axhline(acc_basic , linestyle ='--', color='k', linewidth='1.5',label='Vanilla GNN')\n",
    "plt.plot(Gval_acc[1:] , linestyle ='-', color='darkgreen', linewidth='1.5',label='Teacher (GNN)')\n",
    "plt.plot(Hval_acc[1:] , linestyle ='-', color='m', linewidth='1.5',label='Student (FCN)')\n",
    "plt.xlabel('Iteration'); plt.ylabel('Test Accuracy')\n",
    "plt.title(f'Noise Level = {noise_level}')\n",
    "plt.legend(); plt.show()"
   ]
  },
  {
   "cell_type": "markdown",
   "id": "51cb5fae",
   "metadata": {
    "slideshow": {
     "slide_type": "slide"
    }
   },
   "source": [
    "# <span style=\"color:darkblue\">Now, Let us Try a More Sophisticated Attack</span> # "
   ]
  },
  {
   "cell_type": "code",
   "execution_count": 10,
   "id": "793b12f2",
   "metadata": {},
   "outputs": [
    {
     "data": {
      "application/vnd.jupyter.widget-view+json": {
       "model_id": "a741d25c5c2749da96b458fa598dac96",
       "version_major": 2,
       "version_minor": 0
      },
      "text/plain": [
       "Min-MAX training...:   0%|          | 0/100 [00:00<?, ?it/s]"
      ]
     },
     "metadata": {},
     "output_type": "display_data"
    },
    {
     "data": {
      "application/vnd.jupyter.widget-view+json": {
       "model_id": "3a665cd5185f4554b12ab945993f2d9a",
       "version_major": 2,
       "version_minor": 0
      },
      "text/plain": [
       "Bernoulli sampling...:   0%|          | 0/20 [00:00<?, ?it/s]"
      ]
     },
     "metadata": {},
     "output_type": "display_data"
    },
    {
     "data": {
      "text/plain": [
       "MinmaxAttack(\n",
       "  device=cpu, seed=None,\n",
       "  (surrogate): GCN(\n",
       "    (conv): Sequential(\n",
       "      (0): GCNConv(3703, 32)\n",
       "      (1): ReLU()\n",
       "      (2): Dropout(p=0.5, inplace=False)\n",
       "      (3): GCNConv(32, 6)\n",
       "    )\n",
       "  )\n",
       ")"
      ]
     },
     "execution_count": 10,
     "metadata": {},
     "output_type": "execute_result"
    }
   ],
   "source": [
    "from greatx.attack.untargeted import MinmaxAttack, PGDAttack\n",
    "\n",
    "attack_type = 'MinmaxAttack'\n",
    "\n",
    "if attack_type == 'MinmaxAttack':\n",
    "    attacker = MinmaxAttack(data)\n",
    "elif attack_type == 'PGDAttack':\n",
    "    attacker = PGDAttack(data)\n",
    "\n",
    "attacker.setup_surrogate(surr.model,\n",
    "                         labeled_nodes=splits.train_nodes)\n",
    "level = 0.4\n",
    "    \n",
    "attacker.reset()\n",
    "attacker.attack(level)"
   ]
  },
  {
   "cell_type": "markdown",
   "id": "b233c5d4",
   "metadata": {
    "slideshow": {
     "slide_type": "slide"
    }
   },
   "source": [
    "# <span style=\"color:darkblue\">Even at Reasonable Noise Levels, the Performance Suffers</span>  "
   ]
  },
  {
   "cell_type": "code",
   "execution_count": 11,
   "id": "63a439a2",
   "metadata": {},
   "outputs": [
    {
     "name": "stdout",
     "output_type": "stream",
     "text": [
      "Training...\n",
      "150/150 [==============================] - Total: 5.23s - 34ms/step- loss: 0.758 - acc: 0.858 - val_loss: 1.48 - val_acc: 0.45\n",
      "Done training Vanilla GCN on Poisoned Graph (Acc = 0.4158767759799957)\n"
     ]
    }
   ],
   "source": [
    "trainer_basic = Trainer(GCN(num_features, num_classes, hids = [32],dropout=0.5),lr = 0.0005)\n",
    "trainer_basic.fit(data = attacker.data(), mask=(splits.train_nodes, splits.val_nodes), epochs = 150,verbose=1)\n",
    "logs = trainer_basic.evaluate(attacker.data(), splits.test_nodes,verbose=0)\n",
    "print(f'Done training Vanilla GCN on Poisoned Graph (Acc = {logs.acc})')\n",
    "acc_basic = logs.acc"
   ]
  },
  {
   "cell_type": "markdown",
   "id": "4a8f7bf1",
   "metadata": {
    "slideshow": {
     "slide_type": "slide"
    }
   },
   "source": [
    "# <span style=\"color:darkblue\">And How Much Does UM-GNN Help?</span> "
   ]
  },
  {
   "cell_type": "code",
   "execution_count": 12,
   "id": "a75428c2",
   "metadata": {
    "slideshow": {
     "slide_type": "-"
    }
   },
   "outputs": [
    {
     "name": "stdout",
     "output_type": "stream",
     "text": [
      "Training...\n",
      "200/200 [==============================] - Total: 47.32s - 236ms/step- loss: 1.3 - acc: 0.427 - Hval_loss: 1.31 - Hval_acc: 0.604 - Gval_loss: 1.64 - Gval_acc: 0.38\n",
      "Evaluating...\n",
      "1/1 [==============================] - Total: 12.47ms - 12ms/step- loss: 1.64 - acc: 0.38\n",
      "Evaluating...\n",
      "1/1 [==============================] - Total: 15.95ms - 15ms/step- loss: 1.31 - acc: 0.604\n",
      "╒═══════════════╤═══════════╕\n",
      "│ Names         │   Objects │\n",
      "╞═══════════════╪═══════════╡\n",
      "│ acc (GNN)     │  0.415877 │\n",
      "├───────────────┼───────────┤\n",
      "│ acc (UMGNN-G) │  0.380332 │\n",
      "├───────────────┼───────────┤\n",
      "│ acc (UMGNN-H) │  0.603673 │\n",
      "╘═══════════════╧═══════════╛\n"
     ]
    }
   ],
   "source": [
    "from greatx.nn.models import GCN\n",
    "from modeldefs import FCN\n",
    "from greatx.training.trainer_um import TrainerUM \n",
    "Gmodel = GCN(num_features, num_classes, hids = [32],dropout=0.8)\n",
    "Hmodel = FCN(in_feats=num_features, hidden_neurons=[32], out_feats=num_classes)\n",
    "trainer_umgnn = TrainerUM(Gmodel, Hmodel, lr = 0.0005)\n",
    "trainer_umgnn.fit(data = attacker.data(), mask=(splits.train_nodes, splits.val_nodes, splits.test_nodes), epochs = 200)\n",
    "logs = trainer_umgnn.evaluate(attacker.data(), splits.test_nodes, mode = 'G')\n",
    "acc_g = logs.acc\n",
    "logs = trainer_umgnn.evaluate(attacker.data(), splits.test_nodes, mode = 'H')\n",
    "acc_h = logs.acc\n",
    "logs.pop('loss'); logs.pop('acc')\n",
    "logs.update({'acc (GNN)': acc_basic, 'acc (UMGNN-G)': acc_g, 'acc (UMGNN-H)': acc_h})\n",
    "print(logs)"
   ]
  },
  {
   "cell_type": "markdown",
   "id": "58b37640",
   "metadata": {
    "slideshow": {
     "slide_type": "slide"
    }
   },
   "source": [
    "# <span style=\"color:darkblue\">The Convergence of G and H Models</span>"
   ]
  },
  {
   "cell_type": "code",
   "execution_count": 13,
   "id": "c5c48cb4",
   "metadata": {
    "slideshow": {
     "slide_type": "-"
    }
   },
   "outputs": [
    {
     "data": {
      "image/png": "[encoded data removed]",
      "text/plain": [
       "<Figure size 432x360 with 1 Axes>"
      ]
     },
     "metadata": {
      "needs_background": "light"
     },
     "output_type": "display_data"
    }
   ],
   "source": [
    "matplotlib.rc('font', **font)\n",
    "Hval_acc = trainer_umgnn.callbacks._history.history.Hval_acc\n",
    "Gval_acc = trainer_umgnn.callbacks._history.history.Gval_acc\n",
    "plt.figure(figsize=(6,5))\n",
    "plt.axhline(acc_basic , linestyle ='--', color='k', linewidth='1.5',label='Vanilla GNN')\n",
    "plt.plot(Gval_acc[1:] , linestyle ='-', color='darkgreen', linewidth='1.5',label='Teacher (GNN)')\n",
    "plt.plot(Hval_acc[1:] , linestyle ='-', color='m', linewidth='1.5',label='Student (FCN)')\n",
    "plt.xlabel('Iteration'); plt.ylabel('Test Accuracy')\n",
    "plt.title(f'Attack: {attacker.name}, Level = {level}')\n",
    "plt.legend(); plt.show()"
   ]
  },
  {
   "cell_type": "markdown",
   "id": "6b078d5b",
   "metadata": {
    "slideshow": {
     "slide_type": "slide"
    }
   },
   "source": [
    "# <span style=\"color:darkblue\">Resources</span>"
   ]
  },
  {
   "cell_type": "markdown",
   "id": "269d5c75",
   "metadata": {},
   "source": [
    "+ Uncertainty-Matching Graph Neural Networks to Defend Against Poisoning Attacks, AAAI 2021. <a href=\"https://arxiv.org/abs/2009.14455\"> `paper` </a>\n",
    "+ Greatx library <a href=\"https://github.com/EdisonLeeeee/GreatX\"> `Link` </a>"
   ]
  }
 ],
 "metadata": {
  "celltoolbar": "Slideshow",
  "kernelspec": {
   "display_name": "Python 3 (ipykernel)",
   "language": "python",
   "name": "python3"
  },
  "language_info": {
   "codemirror_mode": {
    "name": "ipython",
    "version": 3
   },
   "file_extension": ".py",
   "mimetype": "text/x-python",
   "name": "python",
   "nbconvert_exporter": "python",
   "pygments_lexer": "ipython3",
   "version": "3.9.7"
  },
  "vscode": {
   "interpreter": {
    "hash": "cd1aed23302fa8b055aa55bcba455f98e3254dda227b73713e22b453d435a368"
   }
  }
 },
 "nbformat": 4,
 "nbformat_minor": 5
}
